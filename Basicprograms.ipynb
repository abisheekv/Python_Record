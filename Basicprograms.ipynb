{
  "nbformat": 4,
  "nbformat_minor": 0,
  "metadata": {
    "colab": {
      "provenance": [],
      "include_colab_link": true
    },
    "kernelspec": {
      "name": "python3",
      "display_name": "Python 3"
    },
    "language_info": {
      "name": "python"
    }
  },
  "cells": [
    {
      "cell_type": "markdown",
      "metadata": {
        "id": "view-in-github",
        "colab_type": "text"
      },
      "source": [
        "<a href=\"https://colab.research.google.com/github/abisheekv/Python_Record/blob/main/Basicprograms.ipynb\" target=\"_parent\"><img src=\"https://colab.research.google.com/assets/colab-badge.svg\" alt=\"Open In Colab\"/></a>"
      ]
    },
    {
      "cell_type": "markdown",
      "source": [
        "Write a program to calculate the area of a triangle using Heron’s formula.\n",
        "(Hint: Heron’s formula is given as: area = sqrt(S*(S–a)*(S–b)*(S–c)))bold text"
      ],
      "metadata": {
        "id": "EXlBNzaBZAH0"
      }
    },
    {
      "cell_type": "code",
      "source": [
        "import math as m\n",
        "a=int(input(\"Enter side 1:\"))\n",
        "b=int(input(\"Enter side 2:\"))\n",
        "c=int(input(\"Enter side 3:\"))\n",
        "S=(a+b+c)/2\n",
        "area = m.sqrt(S*(S-a)*(S-b)*(S-c))\n",
        "print(area)\n"
      ],
      "metadata": {
        "colab": {
          "base_uri": "https://localhost:8080/"
        },
        "id": "JQ_Rej6tZF1k",
        "outputId": "fc186200-713c-496b-c41e-65b82ae4a855"
      },
      "execution_count": null,
      "outputs": [
        {
          "output_type": "stream",
          "name": "stdout",
          "text": [
            "Enter side 1:12\n",
            "Enter side 2:22\n",
            "Enter side 3:15\n",
            "85.28445051707844\n"
          ]
        }
      ]
    },
    {
      "cell_type": "markdown",
      "source": [
        "Write a program to calculate the distance between two points."
      ],
      "metadata": {
        "id": "_uOci3qtamNh"
      }
    },
    {
      "cell_type": "code",
      "source": [
        "import math as m\n",
        "x1=int(input())\n",
        "x2=int(input())\n",
        "y1=int(input())\n",
        "y2=int(input())\n",
        "d = m.sqrt(((x2-x1)**2+(y2-y1)**2))\n",
        "print(\"The distance between two points is:{:.2f}\".format(d))\n",
        "\n"
      ],
      "metadata": {
        "colab": {
          "base_uri": "https://localhost:8080/"
        },
        "id": "hfbIivmuanXF",
        "outputId": "114c4c68-37fa-4c5a-af00-047ec051cc16"
      },
      "execution_count": null,
      "outputs": [
        {
          "output_type": "stream",
          "name": "stdout",
          "text": [
            "10\n",
            "34\n",
            "29\n",
            "122\n",
            "The distance between two points is:96.05\n"
          ]
        }
      ]
    },
    {
      "cell_type": "markdown",
      "source": [
        "Write a program to calculate the area of a circle, rectangle, triangle, and square"
      ],
      "metadata": {
        "id": "q1C38NQydzoI"
      }
    },
    {
      "cell_type": "code",
      "source": [
        "import math as m\n",
        "r=float(input(\"Enter the radius:\"))\n",
        "l=float(input(\"Enter the length:\"))\n",
        "b=float(input(\"Enter the breadth:\"))\n",
        "base=float(input(\"Enter the base:\"))\n",
        "h=float(input(\"Enter the height:\"))\n",
        "s=float(input(\"Enter the side:\"))\n",
        "print(\"Area of circle:{:.2f}\".format(m.pi*(r**2)))\n",
        "print(\"Area of rectangle{:.2f}\".format(l*b))\n",
        "print(\"Area of triangle{:.2f}\".format(((1/2)*base*h)))\n",
        "print(\"Area of square{:.2f}\".format(s*s))\n",
        "\n"
      ],
      "metadata": {
        "colab": {
          "base_uri": "https://localhost:8080/"
        },
        "id": "Vo4yUfK5d02T",
        "outputId": "9c75a753-b432-4e59-970f-6b07f5852ff0"
      },
      "execution_count": null,
      "outputs": [
        {
          "output_type": "stream",
          "name": "stdout",
          "text": [
            "Enter the radius:20\n",
            "Enter the length:10\n",
            "Enter the breadth:5\n",
            "Enter the base:30\n",
            "Enter the height:15\n",
            "Enter the side:4\n",
            "Area of circle:1256.64\n",
            "Area of rectangle50.00\n",
            "Area of triangle225.00\n",
            "Area of square16.00\n"
          ]
        }
      ]
    },
    {
      "cell_type": "markdown",
      "source": [
        "Write a program to print the digit at one’s place of a number.\n"
      ],
      "metadata": {
        "id": "y30QH7HpfluD"
      }
    },
    {
      "cell_type": "code",
      "source": [
        "\n",
        "number = int(input(\"Enter a number: \"))\n",
        "onesdigit = number % 10\n",
        "print(\"The digit at one's place is:\", onesdigit)\n"
      ],
      "metadata": {
        "colab": {
          "base_uri": "https://localhost:8080/"
        },
        "id": "55jOXQW3fm15",
        "outputId": "d4974abc-c4e0-488e-e017-38b556d753e2"
      },
      "execution_count": null,
      "outputs": [
        {
          "output_type": "stream",
          "name": "stdout",
          "text": [
            "Enter a number: 32128\n",
            "The digit at one's place is: 8\n"
          ]
        }
      ]
    },
    {
      "cell_type": "markdown",
      "source": [
        "Write a program to calculate the total amount of money in the piggy bank, given the coins of ₹10, ₹5, ₹2, and ₹1.\n"
      ],
      "metadata": {
        "id": "0AbAZcFOhOnH"
      }
    },
    {
      "cell_type": "code",
      "source": [
        "coins_10 = int(input(\"Enter number of 10 rupee coins: \"))\n",
        "coins_5 = int(input(\"Enter number of 5  rupee  coins: \"))\n",
        "coins_2 = int(input(\"Enter number of 2  rupee  coins: \"))\n",
        "coins_1 = int(input(\"Enter number of 1  rupee  coins: \"))\n",
        "total= (coins_10 * 10) + (coins_5 * 5) + (coins_2 * 2) + (coins_1 * 1)\n",
        "print(\"Total number of coins in piggy bank:{} Rupees\".format(total))\n",
        "\n"
      ],
      "metadata": {
        "colab": {
          "base_uri": "https://localhost:8080/"
        },
        "id": "NHtFWUJlhPsw",
        "outputId": "b0d8dca1-ac19-45b9-c418-3829663fd16d"
      },
      "execution_count": null,
      "outputs": [
        {
          "output_type": "stream",
          "name": "stdout",
          "text": [
            "Enter number of 10 rupee coins: 20\n",
            "Enter number of 5  rupee  coins: 10\n",
            "Enter number of 2  rupee  coins: 5\n",
            "Enter number of 1  rupee  coins: 7\n",
            "Total number of coins in piggy bank:267 Rupees\n"
          ]
        }
      ]
    },
    {
      "cell_type": "markdown",
      "source": [
        "Write a program to calculate the bill amount for an item given its quantity sold, value, discount, and tax.\n"
      ],
      "metadata": {
        "id": "mT1vkRonijHj"
      }
    },
    {
      "cell_type": "code",
      "source": [
        "quantity = int(input(\"Enter quantity sold: \"))\n",
        "price= float(input(\"Enter price : \"))\n",
        "discount= float(input(\"Enter discount : \"))\n",
        "tax= float(input(\"Enter tax : \"))\n",
        "total_price = quantity * price\n",
        "discount_amount = (discount/ 100) * total_price\n",
        "after_discount = total_price - discount_amount\n",
        "tax_amount = (tax/ 100) * after_discount\n",
        "final_bill = after_discount + tax_amount\n",
        "print(\"Final Bill:{}\".format(final_bill))\n",
        "\n"
      ],
      "metadata": {
        "colab": {
          "base_uri": "https://localhost:8080/"
        },
        "id": "4DGI1H3nikCI",
        "outputId": "8caf8c7e-2476-445e-fe73-4d5f347bee3f"
      },
      "execution_count": null,
      "outputs": [
        {
          "output_type": "stream",
          "name": "stdout",
          "text": [
            "Enter quantity sold: 20\n",
            "Enter price : 200\n",
            "Enter discount : 5\n",
            "Enter tax : 2\n",
            "Final Bill:3876.0\n"
          ]
        }
      ]
    },
    {
      "cell_type": "markdown",
      "source": [
        "Write a python program to calculate a household's electricity bill.\n",
        "The user should enter the number of units consumed. The charges are as follows:\n",
        "For the first 100 units: ₹1.50 per unit\n",
        "For the next 100 units (101–200): ₹2.00 per unit\n",
        "For units above 200: ₹3.00 per unit\n"
      ],
      "metadata": {
        "id": "O9H6ClG-jyK-"
      }
    },
    {
      "cell_type": "code",
      "source": [
        "n=float(input(\"Enter number of units:\"))\n",
        "fixed_charge=50\n",
        "amount=0\n",
        "if n<=100:\n",
        "   amount+=n*1.50\n",
        "elif n<=200:\n",
        "    amount+=n*2.00\n",
        "else:\n",
        "    amount+=n*3.00\n",
        "total_bill=fixed_charge+amount\n",
        "print(\"Final bill:\",total_bill)\n"
      ],
      "metadata": {
        "colab": {
          "base_uri": "https://localhost:8080/"
        },
        "id": "qFDqVFzvjzuB",
        "outputId": "b5271bf9-b977-4e07-b63d-3875777c9f8e"
      },
      "execution_count": null,
      "outputs": [
        {
          "output_type": "stream",
          "name": "stdout",
          "text": [
            "Enter number of units:121\n",
            "Final bill: 292.0\n"
          ]
        }
      ]
    },
    {
      "cell_type": "markdown",
      "source": [
        "Develop a Python program that calculates an employee’s net salary. Accept input for:\n",
        "Employee name and ID\n",
        "Number of hours worked\n",
        "Hourly wage\n"
      ],
      "metadata": {
        "id": "8yv0hj1-qX7L"
      }
    },
    {
      "cell_type": "code",
      "source": [
        "employee_name=input(\"Enter employee name:\")\n",
        "employee_id=input(\"Enter employee id:\")\n",
        "hours_worked=float(input(\"Enter number of hours worked:\"))\n",
        "hourly_wage=float(input(\"Enter hourly wage:\"))\n",
        "gross_salary=hours_worked*hourly_wage\n",
        "tax=0.1*gross_salary\n",
        "net_salary=gross_salary-tax\n",
        "print(\"Employee Name:\",employee_name)\n",
        "print(\"Employee ID:\",employee_id)\n",
        "print(\"Gross Salary:\",gross_salary)"
      ],
      "metadata": {
        "id": "Ks6movjormBn",
        "colab": {
          "base_uri": "https://localhost:8080/"
        },
        "outputId": "f69ed2dd-0e1c-4274-c65e-23d1167dd868"
      },
      "execution_count": null,
      "outputs": [
        {
          "output_type": "stream",
          "name": "stdout",
          "text": [
            "Enter employee name:darshan\n",
            "Enter employee id:1956\n",
            "Enter number of hours worked:12\n",
            "Enter hourly wage:200\n",
            "Employee Name: darshan\n",
            "Employee ID: 1956\n",
            "Gross Salary: 2400.0\n"
          ]
        }
      ]
    },
    {
      "cell_type": "markdown",
      "source": [
        "Write a Python program to calculate the total cost of movie tickets. Accept:\n",
        "Number of tickets\n",
        "Ticket category (Silver: ₹120, Gold: ₹180, Platinum: ₹250)\n",
        "Add 18% GST to the ticket cost. Display a formatted bill.\n"
      ],
      "metadata": {
        "id": "oPfk5eQz3XDu"
      }
    },
    {
      "cell_type": "code",
      "source": [
        "n1=int(input(\"Enter number of silver tickets:\"))\n",
        "n2=int(input(\"Enter number of gold tickets:\"))\n",
        "n3=int(input(\"Enter number of platinum tickets:\"))\n",
        "silver=n1*120\n",
        "gold=n2*180\n",
        "platinum=n3*250\n",
        "total_cost=silver+gold+platinum\n",
        "GST=0.18*total_cost\n",
        "total_cost=total_cost+GST\n",
        "print(\"Total cost of tickets:\",total_cost)"
      ],
      "metadata": {
        "colab": {
          "base_uri": "https://localhost:8080/"
        },
        "id": "bj5d9OmT3Xuz",
        "outputId": "880bcc2c-9760-4230-a457-9187a2a523ae"
      },
      "execution_count": null,
      "outputs": [
        {
          "output_type": "stream",
          "name": "stdout",
          "text": [
            "Enter number of silver tickets:20\n",
            "Enter number of gold tickets:43\n",
            "Enter number of platinum tickets:26\n",
            "Total cost of tickets: 19635.2\n"
          ]
        }
      ]
    },
    {
      "cell_type": "markdown",
      "source": [
        "Develop a Python program that estimates travel fare based on distance and transport mode.\n",
        "Input:\n",
        "Distance (in km)\n",
        "Mode (Bus: ₹5/km, Train: ₹2/km, Cab: ₹10/km)\n",
        "Calculate and display the total fare and estimated travel time (assuming constant speeds for each mode).\n"
      ],
      "metadata": {
        "id": "aScFREP24XH2"
      }
    },
    {
      "cell_type": "code",
      "source": [
        "distance=float(input(\"Enter distance:\"))\n",
        "mode=input(\"Enter mode:\")\n",
        "if mode==\"Bus\":\n",
        "    fare=5*distance\n",
        "    speed=40\n",
        "elif mode==\"Train\":\n",
        "    fare=2*distance\n",
        "    speed=80\n",
        "else:\n",
        "    fare=10*distance\n",
        "    speed=60\n",
        "time=distance/speed\n",
        "print(\"Total fare:\",fare)\n",
        "print(\"Estimated travel time:\",time)"
      ],
      "metadata": {
        "colab": {
          "base_uri": "https://localhost:8080/"
        },
        "id": "7yMSbypD4YSa",
        "outputId": "220bcc7d-58d1-4139-8d00-046d29f764b8"
      },
      "execution_count": null,
      "outputs": [
        {
          "output_type": "stream",
          "name": "stdout",
          "text": [
            "Enter distance:20\n",
            "Enter mode:bus\n",
            "Total fare: 200.0\n",
            "Estimated travel time: 0.3333333333333333\n"
          ]
        }
      ]
    }
  ]
}